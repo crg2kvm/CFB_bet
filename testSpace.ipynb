{
 "cells": [
  {
   "cell_type": "code",
   "execution_count": 28,
   "metadata": {},
   "outputs": [],
   "source": [
    "import cfbd\n",
    "api_key = 'MC/a7S2MZGhbO3j+PqUgCUnkK4yuSH+DhAxoi7kSLBF3+Wrt5N2QY8uFQ/OvsPW/'\n",
    "configuration = cfbd.Configuration()\n",
    "configuration.api_key['Authorization'] = api_key\n",
    "configuration.api_key_prefix['Authorization'] = 'Bearer'\n",
    "api_games = cfbd.GamesApi(cfbd.ApiClient(configuration))\n",
    "api_teams= cfbd.TeamsApi(cfbd.ApiClient(configuration))\n",
    "api_betting = cfbd.BettingApi(cfbd.ApiClient(configuration))\n",
    "api_metrics = cfbd.MetricsApi(cfbd.ApiClient(configuration))\n",
    "api_stats = cfbd.StatsApi(cfbd.ApiClient(configuration))\n",
    "api_ratings = cfbd.RatingsApi(cfbd.ApiClient(configuration))\n",
    "api_recruit = cfbd.RecruitingApi(cfbd.ApiClient(configuration))"
   ]
  },
  {
   "cell_type": "code",
   "execution_count": 65,
   "metadata": {},
   "outputs": [
    {
     "data": {
      "text/plain": [
       "[{'attendance': 76885,\n",
       "  'away_conference': 'ACC',\n",
       "  'away_division': 'fbs',\n",
       "  'away_id': 228,\n",
       "  'away_line_scores': [7, 10, 8, 0],\n",
       "  'away_points': 25,\n",
       "  'away_post_win_prob': 0.015503893872457208,\n",
       "  'away_postgame_elo': 2343,\n",
       "  'away_pregame_elo': 2400,\n",
       "  'away_team': 'Clemson',\n",
       "  'completed': True,\n",
       "  'conference_game': False,\n",
       "  'excitement_index': 5.1873471877,\n",
       "  'highlights': 'https://www.youtube.com/watch?v=17RWyRHPe1A',\n",
       "  'home_conference': 'SEC',\n",
       "  'home_division': 'fbs',\n",
       "  'home_id': 99,\n",
       "  'home_line_scores': [7, 21, 7, 7],\n",
       "  'home_points': 42,\n",
       "  'home_post_win_prob': 0.9844961061275428,\n",
       "  'home_postgame_elo': 2342,\n",
       "  'home_pregame_elo': 2285,\n",
       "  'home_team': 'LSU',\n",
       "  'id': 401135295,\n",
       "  'neutral_site': True,\n",
       "  'notes': 'CFP NATIONAL CHAMPIONSHIP PRES. BY AT&T',\n",
       "  'season': 2019,\n",
       "  'season_type': 'postseason',\n",
       "  'start_date': '2020-01-14T01:00:00.000Z',\n",
       "  'start_time_tbd': None,\n",
       "  'venue': 'Mercedes-Benz Superdome',\n",
       "  'venue_id': 3493,\n",
       "  'week': 1}]"
      ]
     },
     "execution_count": 65,
     "metadata": {},
     "output_type": "execute_result"
    }
   ],
   "source": [
    "from CollegeData import Data\n",
    "\n",
    "api_games.get_games(year=2000,id=401135295)"
   ]
  },
  {
   "cell_type": "code",
   "execution_count": null,
   "metadata": {},
   "outputs": [],
   "source": [
    "api_stats.get_advanced_team_game_stats(year=2019,week=6,team='clemson')\n",
    "api_stats.get_team_season_stats(year=2019,team='clemson',start_week=1,end_week=7)\n",
    "api_ratings.get_elo_ratings(year=2019,conference='acc',)\n",
    "api_recruit.get_recruiting_groups(start_year=2016,end_year=2019,team='clemson')\n",
    "api_recruit.get_recruiting_players(year=2019,team='clemson')"
   ]
  },
  {
   "cell_type": "code",
   "execution_count": 64,
   "metadata": {},
   "outputs": [],
   "source": [
    "def flatten_dict(d, parent_key='', sep='_'):\n",
    "    \"\"\"\n",
    "    Flattens dictionary i.e. removes nested dictionaries\n",
    "    \"\"\"\n",
    "    items = []\n",
    "    for k, v in d.items():\n",
    "        new_key = f\"{parent_key}{sep}{k}\" if parent_key else k\n",
    "        if isinstance(v, dict):\n",
    "            items.extend(flatten_dict(v, new_key, sep=sep).items())\n",
    "        else:\n",
    "            items.append((new_key, v))\n",
    "    return dict(items)\n",
    "\n",
    "\n",
    "def getAdvancedSeasonStats(year,week,team):\n",
    "    \"\"\"\n",
    "    Returns defensive advanced stats of team\n",
    "\n",
    "    :param year: year of season\n",
    "    :param week: week of season\n",
    "    :param team: team that is wanted\n",
    "    :return dat_def: advanced defensive statistics\n",
    "    :return dat_off: advanced offensive statistics\n",
    "    \"\"\"\n",
    "    dat = api_stats.get_advanced_team_season_stats(year=year,team=team,start_week=1,end_week=week,exclude_garbage_time=True)[0].to_dict()\n",
    "    dat_def = dat['defense']\n",
    "    dat_off = dat['offense']\n",
    "    keys_to_pop = ['total_ppa','line_yards_total','second_level_yards_total','open_field_yards_total','total_opportunies','rushing_plays_total_ppa','passing_plays_total_ppa']\n",
    "    dat_def=flatten_dict(dat_def)\n",
    "    dat_off=flatten_dict(dat_off)\n",
    "    for key in keys_to_pop:\n",
    "        dat_def.pop(key)\n",
    "        dat_off.pop(key)\n",
    "    return dat_def, dat_off\n"
   ]
  },
  {
   "cell_type": "code",
   "execution_count": 70,
   "metadata": {},
   "outputs": [
    {
     "ename": "AttributeError",
     "evalue": "type object 'Data' has no attribute 'getAdvancedSeasonStats'",
     "output_type": "error",
     "traceback": [
      "\u001b[1;31m---------------------------------------------------------------------------\u001b[0m",
      "\u001b[1;31mAttributeError\u001b[0m                            Traceback (most recent call last)",
      "Cell \u001b[1;32mIn[70], line 2\u001b[0m\n\u001b[0;32m      1\u001b[0m \u001b[38;5;28;01mfrom\u001b[39;00m \u001b[38;5;21;01mCollegeData\u001b[39;00m \u001b[38;5;28;01mimport\u001b[39;00m Data\n\u001b[1;32m----> 2\u001b[0m \u001b[43mData\u001b[49m\u001b[38;5;241;43m.\u001b[39;49m\u001b[43mgetAdvancedSeasonStats\u001b[49m(\u001b[38;5;241m2019\u001b[39m,\u001b[38;5;241m4\u001b[39m,\u001b[38;5;124m'\u001b[39m\u001b[38;5;124mclemson\u001b[39m\u001b[38;5;124m'\u001b[39m)\n",
      "\u001b[1;31mAttributeError\u001b[0m: type object 'Data' has no attribute 'getAdvancedSeasonStats'"
     ]
    }
   ],
   "source": [
    "from CollegeData import Data\n",
    "Data.getAdvancedSeasonStats(2019,4,'clemson')"
   ]
  }
 ],
 "metadata": {
  "kernelspec": {
   "display_name": ".venv",
   "language": "python",
   "name": "python3"
  },
  "language_info": {
   "codemirror_mode": {
    "name": "ipython",
    "version": 3
   },
   "file_extension": ".py",
   "mimetype": "text/x-python",
   "name": "python",
   "nbconvert_exporter": "python",
   "pygments_lexer": "ipython3",
   "version": "3.11.9"
  }
 },
 "nbformat": 4,
 "nbformat_minor": 2
}
