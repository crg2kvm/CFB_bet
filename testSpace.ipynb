{
 "cells": [
  {
   "cell_type": "code",
   "execution_count": 1,
   "metadata": {},
   "outputs": [],
   "source": [
    "import cfbd\n",
    "api_key = 'MC/a7S2MZGhbO3j+PqUgCUnkK4yuSH+DhAxoi7kSLBF3+Wrt5N2QY8uFQ/OvsPW/'\n",
    "configuration = cfbd.Configuration()\n",
    "configuration.api_key['Authorization'] = api_key\n",
    "configuration.api_key_prefix['Authorization'] = 'Bearer'\n",
    "api_games = cfbd.GamesApi(cfbd.ApiClient(configuration))\n",
    "api_teams= cfbd.TeamsApi(cfbd.ApiClient(configuration))\n",
    "api_betting = cfbd.BettingApi(cfbd.ApiClient(configuration))"
   ]
  },
  {
   "cell_type": "code",
   "execution_count": 3,
   "metadata": {},
   "outputs": [
    {
     "data": {
      "text/plain": [
       "[{'attendance': 50248,\n",
       "  'away_conference': 'ACC',\n",
       "  'away_division': 'fbs',\n",
       "  'away_id': 228,\n",
       "  'away_line_scores': [14, 3, 10, 14],\n",
       "  'away_points': 41,\n",
       "  'away_post_win_prob': 0.9963757154730751,\n",
       "  'away_postgame_elo': 2159,\n",
       "  'away_pregame_elo': 2135,\n",
       "  'away_team': 'Clemson',\n",
       "  'completed': True,\n",
       "  'conference_game': True,\n",
       "  'excitement_index': 0.8604833664,\n",
       "  'highlights': 'https://www.youtube.com/watch?v=NnME9nnNIq4',\n",
       "  'home_conference': 'ACC',\n",
       "  'home_division': 'fbs',\n",
       "  'home_id': 183,\n",
       "  'home_line_scores': [0, 6, 0, 0],\n",
       "  'home_points': 6,\n",
       "  'home_post_win_prob': 0.0036242845269249106,\n",
       "  'home_postgame_elo': 1475,\n",
       "  'home_pregame_elo': 1499,\n",
       "  'home_team': 'Syracuse',\n",
       "  'id': 401112449,\n",
       "  'neutral_site': False,\n",
       "  'notes': None,\n",
       "  'season': 2019,\n",
       "  'season_type': 'regular',\n",
       "  'start_date': '2019-09-14T23:30:00.000Z',\n",
       "  'start_time_tbd': None,\n",
       "  'venue': 'Carrier Dome',\n",
       "  'venue_id': 1964,\n",
       "  'week': 3}]"
      ]
     },
     "execution_count": 3,
     "metadata": {},
     "output_type": "execute_result"
    }
   ],
   "source": [
    "api_games.get_games(year=2019,team='Clemson',week=3)"
   ]
  }
 ],
 "metadata": {
  "kernelspec": {
   "display_name": ".venv",
   "language": "python",
   "name": "python3"
  },
  "language_info": {
   "codemirror_mode": {
    "name": "ipython",
    "version": 3
   },
   "file_extension": ".py",
   "mimetype": "text/x-python",
   "name": "python",
   "nbconvert_exporter": "python",
   "pygments_lexer": "ipython3",
   "version": "3.11.9"
  }
 },
 "nbformat": 4,
 "nbformat_minor": 2
}
