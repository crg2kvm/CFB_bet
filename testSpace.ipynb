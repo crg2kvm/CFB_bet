{
 "cells": [
  {
   "cell_type": "code",
   "execution_count": 5,
   "metadata": {},
   "outputs": [],
   "source": [
    "import cfbd\n",
    "api_key = 'MC/a7S2MZGhbO3j+PqUgCUnkK4yuSH+DhAxoi7kSLBF3+Wrt5N2QY8uFQ/OvsPW/'\n",
    "configuration = cfbd.Configuration()\n",
    "configuration.api_key['Authorization'] = api_key\n",
    "configuration.api_key_prefix['Authorization'] = 'Bearer'\n",
    "api_games = cfbd.GamesApi(cfbd.ApiClient(configuration))\n",
    "api_teams= cfbd.TeamsApi(cfbd.ApiClient(configuration))\n",
    "api_betting = cfbd.BettingApi(cfbd.ApiClient(configuration))"
   ]
  },
  {
   "cell_type": "code",
   "execution_count": 62,
   "metadata": {},
   "outputs": [],
   "source": [
    "def getWeeklyGames(year,week,division='fbs'):\n",
    "    \"\"\"\n",
    "    :param year: year of data\n",
    "    :param week: week of data\n",
    "    :param division: division of data\n",
    "    :return bettable_games: list of fbs games\n",
    "    \"\"\"\n",
    "    keys_to_keep = ['id','season','week','start_date','neutral_site','attendance','venue_id','home_team','home_conference','home_points','home_pregame_elo','away_team','away_conference','away_points','away_pregame_elo']\n",
    "    games = api_games.get_games(year=year,week=week,division=division)\n",
    "    bettable_games = []\n",
    "    for game in games:\n",
    "        game = game.to_dict()     \n",
    "        if game['away_division'] != 'fcs' and game['home_division'] != 'fcs':\n",
    "            game=[{key: game[key] for key in keys_to_keep}]\n",
    "            bettable_games.append(game)\n",
    "    \n",
    "    return bettable_games\n",
    "\n",
    "\n",
    "\n"
   ]
  },
  {
   "cell_type": "code",
   "execution_count": null,
   "metadata": {},
   "outputs": [],
   "source": [
    "api_games.get_games(year=2019,week=1).__len__()"
   ]
  },
  {
   "cell_type": "code",
   "execution_count": 64,
   "metadata": {},
   "outputs": [
    {
     "data": {
      "text/plain": [
       "[{'id': 401110723,\n",
       "  'season': 2019,\n",
       "  'week': 1,\n",
       "  'start_date': '2019-08-24T23:00:00.000Z',\n",
       "  'neutral_site': True,\n",
       "  'attendance': 66543,\n",
       "  'venue_id': 4013,\n",
       "  'home_team': 'Florida',\n",
       "  'home_conference': 'SEC',\n",
       "  'home_points': 24,\n",
       "  'home_pregame_elo': 1683,\n",
       "  'away_team': 'Miami',\n",
       "  'away_conference': 'ACC',\n",
       "  'away_points': 20,\n",
       "  'away_pregame_elo': 1611}]"
      ]
     },
     "execution_count": 64,
     "metadata": {},
     "output_type": "execute_result"
    }
   ],
   "source": [
    "getWeeklyGames(2019,1)[0]\n"
   ]
  },
  {
   "cell_type": "code",
   "execution_count": 14,
   "metadata": {},
   "outputs": [
    {
     "name": "stdout",
     "output_type": "stream",
     "text": [
      "Error: Betting data is not available for this game.\n"
     ]
    }
   ],
   "source": [
    "from CollegeData import Data\n",
    "Data.bettingLines(401117855)\n"
   ]
  }
 ],
 "metadata": {
  "kernelspec": {
   "display_name": ".venv",
   "language": "python",
   "name": "python3"
  },
  "language_info": {
   "codemirror_mode": {
    "name": "ipython",
    "version": 3
   },
   "file_extension": ".py",
   "mimetype": "text/x-python",
   "name": "python",
   "nbconvert_exporter": "python",
   "pygments_lexer": "ipython3",
   "version": "3.11.9"
  }
 },
 "nbformat": 4,
 "nbformat_minor": 2
}
